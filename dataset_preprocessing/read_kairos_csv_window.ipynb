{
 "cells": [
  {
   "cell_type": "code",
   "execution_count": 1,
   "metadata": {},
   "outputs": [
    {
     "name": "stdout",
     "output_type": "stream",
     "text": [
      " Volume in drive D is Data\n",
      " Volume Serial Number is 5CD7-5EF6\n",
      "\n",
      " Directory of d:\\MOBILE_ROBOTICS\\KairosData\\csv\\window_plan\n",
      "\n",
      "15/04/2022  17:41    <DIR>          .\n",
      "15/04/2022  17:41    <DIR>          ..\n",
      "27/03/2022  00:20         7.567.560 fufi-front_laser-scan.csv\n",
      "27/03/2022  00:20           722.178 fufi-imu-data.csv\n",
      "27/03/2022  00:21           768.412 fufi-joint_states.csv\n",
      "27/03/2022  00:20         7.342.264 fufi-rear_laser-scan.csv\n",
      "27/03/2022  00:20           319.260 fufi-robotnik_base_control-cmd_vel.csv\n",
      "27/03/2022  00:20         1.448.720 fufi-robotnik_base_control-odom.csv\n",
      "27/03/2022  00:20            53.252 fufi-robot_pose.csv\n",
      "27/03/2022  00:20           157.847 fufi-vectornav-imu-temperature.csv\n",
      "27/03/2022  00:20               582 topic_info.csv\n",
      "               9 File(s)     18.380.075 bytes\n",
      "               2 Dir(s)  246.388.260.864 bytes free\n"
     ]
    }
   ],
   "source": [
    "!dir csv\\\\window_plan\\\\"
   ]
  },
  {
   "cell_type": "code",
   "execution_count": 2,
   "metadata": {},
   "outputs": [
    {
     "name": "stderr",
     "output_type": "stream",
     "text": [
      "Enabling notebook extension luxwidget/extension...\n",
      "      - Validating: ok\n"
     ]
    }
   ],
   "source": [
    "#!python37 -m jupyter nbextension install luxwidget\n",
    "!python37 -m jupyter nbextension enable luxwidget --py"
   ]
  },
  {
   "cell_type": "code",
   "execution_count": 3,
   "metadata": {},
   "outputs": [],
   "source": [
    "import lux\n",
    "import pandas as pd"
   ]
  },
  {
   "cell_type": "code",
   "execution_count": 4,
   "metadata": {},
   "outputs": [
    {
     "data": {
      "application/vnd.jupyter.widget-view+json": {
       "model_id": "1837303b097b499bb5eb190db895572f",
       "version_major": 2,
       "version_minor": 0
      },
      "text/plain": [
       "Button(description='Toggle Pandas/Lux', layout=Layout(top='5px', width='140px'), style=ButtonStyle())"
      ]
     },
     "metadata": {},
     "output_type": "display_data"
    },
    {
     "data": {
      "application/vnd.jupyter.widget-view+json": {
       "model_id": "36997366aaa3485d82675c81f6515851",
       "version_major": 2,
       "version_minor": 0
      },
      "text/plain": [
       "Output()"
      ]
     },
     "metadata": {},
     "output_type": "display_data"
    }
   ],
   "source": [
    "df_info = pd.read_csv(\"csv/window_plan/topic_info.csv\")\n",
    "df_info"
   ]
  },
  {
   "cell_type": "code",
   "execution_count": 5,
   "metadata": {},
   "outputs": [
    {
     "name": "stderr",
     "output_type": "stream",
     "text": [
      "Parameter format not correct - \"window_plan\".\n"
     ]
    },
    {
     "name": "stdout",
     "output_type": "stream",
     "text": [
      "<class 'lux.core.frame.LuxDataFrame'>\n",
      "RangeIndex: 620 entries, 0 to 619\n",
      "Columns: 1094 entries, Time to intensities_540\n",
      "dtypes: float64(1090), int64(3), object(1)\n",
      "memory usage: 5.2+ MB\n"
     ]
    },
    {
     "name": "stderr",
     "output_type": "stream",
     "text": [
      "c:\\Users\\luigi\\AppData\\Local\\Programs\\Python\\Python37\\lib\\site-packages\\lux\\executor\\PandasExecutor.py:448: UserWarning:\n",
      "Lux detects that the attribute 'Time' may be temporal.\n",
      "To display visualizations for these attributes accurately, please convert temporal attributes to Datetime objects.\n",
      "For example, you can convert a Year attribute (e.g., 1998, 1971, 1982) using pd.to_datetime by specifying the `format` as '%Y'.\n",
      "\n",
      "Here is a starter template that you can use for converting the temporal fields:\n",
      "\tdf['Time'] = pd.to_datetime(df['Time'], format='<replace-with-datetime-format>')\n",
      "\n",
      "See more at: https://pandas.pydata.org/pandas-docs/stable/reference/api/pandas.to_datetime.html\n",
      "If Time is not a temporal attribute, please use override Lux's automatically detected type:\n",
      "\tdf.set_data_type({'Time':'quantitative'})\n"
     ]
    },
    {
     "data": {
      "application/vnd.jupyter.widget-view+json": {
       "model_id": "171914a82ac0436299b8c3e13a3ede64",
       "version_major": 2,
       "version_minor": 0
      },
      "text/plain": [
       "Button(description='Toggle Pandas/Lux', layout=Layout(top='5px', width='140px'), style=ButtonStyle())"
      ]
     },
     "metadata": {},
     "output_type": "display_data"
    },
    {
     "data": {
      "application/vnd.jupyter.widget-view+json": {
       "model_id": "1043fd21a22e446c84562d89171543aa",
       "version_major": 2,
       "version_minor": 0
      },
      "text/plain": [
       "Output()"
      ]
     },
     "metadata": {},
     "output_type": "display_data"
    }
   ],
   "source": [
    "!dir csv/window_plan\n",
    "df = pd.read_csv(\"csv/window_plan/fufi-front_laser-scan.csv\")\n",
    "df.info()\n",
    "# \"header.seq\",\"header.stamp.secs\",\"header.stamp.nsecs\",\"header.frame_id\", \"angle_min\",\"angle_max\", \"angle_increment\",\"time_increment\",\"scan_time\",\"range_min\",\"range_max\"\n",
    "df_sensor = df[[\"Time\",\"ranges_0\", \"intensities_0\",\"ranges_135\", \"intensities_135\",\"ranges_270\", \"intensities_270\",\"ranges_405\", \"intensities_405\",\n",
    "\"ranges_540\", \"intensities_540\"]]\n",
    "\n",
    "df_sensor"
   ]
  },
  {
   "cell_type": "code",
   "execution_count": 6,
   "metadata": {},
   "outputs": [
    {
     "name": "stdout",
     "output_type": "stream",
     "text": [
      "<class 'lux.core.frame.LuxDataFrame'>\n",
      "RangeIndex: 482 entries, 0 to 481\n",
      "Data columns (total 8 columns):\n",
      " #   Column         Non-Null Count  Dtype  \n",
      "---  ------         --------------  -----  \n",
      " 0   Time           482 non-null    float64\n",
      " 1   position.x     482 non-null    float64\n",
      " 2   position.y     482 non-null    float64\n",
      " 3   position.z     482 non-null    float64\n",
      " 4   orientation.x  482 non-null    float64\n",
      " 5   orientation.y  482 non-null    float64\n",
      " 6   orientation.z  482 non-null    float64\n",
      " 7   orientation.w  482 non-null    float64\n",
      "dtypes: float64(8)\n",
      "memory usage: 30.2 KB\n"
     ]
    },
    {
     "name": "stderr",
     "output_type": "stream",
     "text": [
      "c:\\Users\\luigi\\AppData\\Local\\Programs\\Python\\Python37\\lib\\site-packages\\lux\\executor\\PandasExecutor.py:448: UserWarning:\n",
      "Lux detects that the attribute 'Time' may be temporal.\n",
      "To display visualizations for these attributes accurately, please convert temporal attributes to Datetime objects.\n",
      "For example, you can convert a Year attribute (e.g., 1998, 1971, 1982) using pd.to_datetime by specifying the `format` as '%Y'.\n",
      "\n",
      "Here is a starter template that you can use for converting the temporal fields:\n",
      "\tdf['Time'] = pd.to_datetime(df['Time'], format='<replace-with-datetime-format>')\n",
      "\n",
      "See more at: https://pandas.pydata.org/pandas-docs/stable/reference/api/pandas.to_datetime.html\n",
      "If Time is not a temporal attribute, please use override Lux's automatically detected type:\n",
      "\tdf.set_data_type({'Time':'quantitative'})\n"
     ]
    },
    {
     "data": {
      "application/vnd.jupyter.widget-view+json": {
       "model_id": "9e244342d083478b8671bfd0ab817a3d",
       "version_major": 2,
       "version_minor": 0
      },
      "text/plain": [
       "Button(description='Toggle Pandas/Lux', layout=Layout(top='5px', width='140px'), style=ButtonStyle())"
      ]
     },
     "metadata": {},
     "output_type": "display_data"
    },
    {
     "data": {
      "application/vnd.jupyter.widget-view+json": {
       "model_id": "8c566e22e8cf4fe5a230d88435a1c85b",
       "version_major": 2,
       "version_minor": 0
      },
      "text/plain": [
       "Output()"
      ]
     },
     "metadata": {},
     "output_type": "display_data"
    }
   ],
   "source": [
    "df = pd.read_csv(\"csv/window_plan/fufi-robot_pose.csv\")\n",
    "df.info()\n",
    "\n",
    "df_robot_pose = df[['Time', 'position.x', 'position.y','orientation.z', 'orientation.w']]\n",
    "df"
   ]
  },
  {
   "cell_type": "code",
   "execution_count": 7,
   "metadata": {},
   "outputs": [],
   "source": [
    "import math\n",
    " \n",
    "def euler_from_quaternion(x, y, z, w):\n",
    "        \"\"\"\n",
    "        Convert a quaternion into euler angles (roll, pitch, yaw)\n",
    "        roll is rotation around x in radians (counterclockwise)\n",
    "        pitch is rotation around y in radians (counterclockwise)\n",
    "        yaw is rotation around z in radians (counterclockwise)\n",
    "        \"\"\"\n",
    "        t0 = +2.0 * (w * x + y * z)\n",
    "        t1 = +1.0 - 2.0 * (x * x + y * y)\n",
    "        roll_x = math.atan2(t0, t1)\n",
    "     \n",
    "        t2 = +2.0 * (w * y - z * x)\n",
    "        t2 = +1.0 if t2 > +1.0 else t2\n",
    "        t2 = -1.0 if t2 < -1.0 else t2\n",
    "        pitch_y = math.asin(t2)\n",
    "     \n",
    "        t3 = +2.0 * (w * z + x * y)\n",
    "        t4 = +1.0 - 2.0 * (y * y + z * z)\n",
    "        yaw_z = math.atan2(t3, t4)\n",
    "     \n",
    "        # return roll_x, pitch_y, yaw_z # in radians\n",
    "        return yaw_z # in radians"
   ]
  },
  {
   "cell_type": "code",
   "execution_count": 8,
   "metadata": {},
   "outputs": [
    {
     "name": "stderr",
     "output_type": "stream",
     "text": [
      "c:\\Users\\luigi\\AppData\\Local\\Programs\\Python\\Python37\\lib\\site-packages\\pandas\\core\\frame.py:3163: SettingWithCopyWarning:\n",
      "A value is trying to be set on a copy of a slice from a DataFrame.\n",
      "Try using .loc[row_indexer,col_indexer] = value instead\n",
      "\n",
      "See the caveats in the documentation: https://pandas.pydata.org/pandas-docs/stable/user_guide/indexing.html#returning-a-view-versus-a-copy\n",
      "c:\\Users\\luigi\\AppData\\Local\\Programs\\Python\\Python37\\lib\\site-packages\\lux\\executor\\PandasExecutor.py:448: UserWarning:\n",
      "Lux detects that the attribute 'Time' may be temporal.\n",
      "To display visualizations for these attributes accurately, please convert temporal attributes to Datetime objects.\n",
      "For example, you can convert a Year attribute (e.g., 1998, 1971, 1982) using pd.to_datetime by specifying the `format` as '%Y'.\n",
      "\n",
      "Here is a starter template that you can use for converting the temporal fields:\n",
      "\tdf['Time'] = pd.to_datetime(df['Time'], format='<replace-with-datetime-format>')\n",
      "\n",
      "See more at: https://pandas.pydata.org/pandas-docs/stable/reference/api/pandas.to_datetime.html\n",
      "If Time is not a temporal attribute, please use override Lux's automatically detected type:\n",
      "\tdf.set_data_type({'Time':'quantitative'})\n"
     ]
    },
    {
     "data": {
      "application/vnd.jupyter.widget-view+json": {
       "model_id": "add95e5e9e594530bcc86c90ae31938a",
       "version_major": 2,
       "version_minor": 0
      },
      "text/plain": [
       "Button(description='Toggle Pandas/Lux', layout=Layout(top='5px', width='140px'), style=ButtonStyle())"
      ]
     },
     "metadata": {},
     "output_type": "display_data"
    },
    {
     "data": {
      "application/vnd.jupyter.widget-view+json": {
       "model_id": "a479774e356c4d998b4bfab573d4dbd6",
       "version_major": 2,
       "version_minor": 0
      },
      "text/plain": [
       "Output()"
      ]
     },
     "metadata": {},
     "output_type": "display_data"
    }
   ],
   "source": [
    "xyz = []\n",
    "for (z,w,y,x) in zip(df[\"orientation.z\"],df[\"orientation.w\"],df[\"orientation.y\"],df[\"orientation.x\"]):\n",
    "    xyz.append(euler_from_quaternion(x, y, z, w))\n",
    "\n",
    "df_robot_pose = df[['Time', 'position.x', 'position.y','orientation.z']]\n",
    "df_robot_pose[\"orientation.z\"] = xyz\n",
    "\n",
    "df_robot_pose"
   ]
  },
  {
   "cell_type": "code",
   "execution_count": 9,
   "metadata": {},
   "outputs": [
    {
     "name": "stdout",
     "output_type": "stream",
     "text": [
      "<class 'lux.core.frame.LuxDataFrame'>\n",
      "RangeIndex: 1393 entries, 0 to 1392\n",
      "Data columns (total 42 columns):\n",
      " #   Column                            Non-Null Count  Dtype  \n",
      "---  ------                            --------------  -----  \n",
      " 0   Time                              1393 non-null   float64\n",
      " 1   header.seq                        1393 non-null   int64  \n",
      " 2   header.stamp.secs                 1393 non-null   int64  \n",
      " 3   header.stamp.nsecs                1393 non-null   int64  \n",
      " 4   header.frame_id                   1393 non-null   object \n",
      " 5   orientation.x                     1393 non-null   float64\n",
      " 6   orientation.y                     1393 non-null   float64\n",
      " 7   orientation.z                     1393 non-null   float64\n",
      " 8   orientation.w                     1393 non-null   float64\n",
      " 9   orientation_covariance_0          1393 non-null   float64\n",
      " 10  orientation_covariance_1          1393 non-null   float64\n",
      " 11  orientation_covariance_2          1393 non-null   float64\n",
      " 12  orientation_covariance_3          1393 non-null   float64\n",
      " 13  orientation_covariance_4          1393 non-null   float64\n",
      " 14  orientation_covariance_5          1393 non-null   float64\n",
      " 15  orientation_covariance_6          1393 non-null   float64\n",
      " 16  orientation_covariance_7          1393 non-null   float64\n",
      " 17  orientation_covariance_8          1393 non-null   float64\n",
      " 18  angular_velocity.x                1393 non-null   float64\n",
      " 19  angular_velocity.y                1393 non-null   float64\n",
      " 20  angular_velocity.z                1393 non-null   float64\n",
      " 21  angular_velocity_covariance_0     1393 non-null   float64\n",
      " 22  angular_velocity_covariance_1     1393 non-null   float64\n",
      " 23  angular_velocity_covariance_2     1393 non-null   float64\n",
      " 24  angular_velocity_covariance_3     1393 non-null   float64\n",
      " 25  angular_velocity_covariance_4     1393 non-null   float64\n",
      " 26  angular_velocity_covariance_5     1393 non-null   float64\n",
      " 27  angular_velocity_covariance_6     1393 non-null   float64\n",
      " 28  angular_velocity_covariance_7     1393 non-null   float64\n",
      " 29  angular_velocity_covariance_8     1393 non-null   float64\n",
      " 30  linear_acceleration.x             1393 non-null   float64\n",
      " 31  linear_acceleration.y             1393 non-null   float64\n",
      " 32  linear_acceleration.z             1393 non-null   float64\n",
      " 33  linear_acceleration_covariance_0  1393 non-null   float64\n",
      " 34  linear_acceleration_covariance_1  1393 non-null   float64\n",
      " 35  linear_acceleration_covariance_2  1393 non-null   float64\n",
      " 36  linear_acceleration_covariance_3  1393 non-null   float64\n",
      " 37  linear_acceleration_covariance_4  1393 non-null   float64\n",
      " 38  linear_acceleration_covariance_5  1393 non-null   float64\n",
      " 39  linear_acceleration_covariance_6  1393 non-null   float64\n",
      " 40  linear_acceleration_covariance_7  1393 non-null   float64\n",
      " 41  linear_acceleration_covariance_8  1393 non-null   float64\n",
      "dtypes: float64(38), int64(3), object(1)\n",
      "memory usage: 457.2+ KB\n"
     ]
    },
    {
     "name": "stderr",
     "output_type": "stream",
     "text": [
      "c:\\Users\\luigi\\AppData\\Local\\Programs\\Python\\Python37\\lib\\site-packages\\lux\\executor\\PandasExecutor.py:448: UserWarning:\n",
      "Lux detects that the attribute 'Time' may be temporal.\n",
      "To display visualizations for these attributes accurately, please convert temporal attributes to Datetime objects.\n",
      "For example, you can convert a Year attribute (e.g., 1998, 1971, 1982) using pd.to_datetime by specifying the `format` as '%Y'.\n",
      "\n",
      "Here is a starter template that you can use for converting the temporal fields:\n",
      "\tdf['Time'] = pd.to_datetime(df['Time'], format='<replace-with-datetime-format>')\n",
      "\n",
      "See more at: https://pandas.pydata.org/pandas-docs/stable/reference/api/pandas.to_datetime.html\n",
      "If Time is not a temporal attribute, please use override Lux's automatically detected type:\n",
      "\tdf.set_data_type({'Time':'quantitative'})\n"
     ]
    },
    {
     "data": {
      "application/vnd.jupyter.widget-view+json": {
       "model_id": "c2a6bc69d72742d5bed4ff321f070898",
       "version_major": 2,
       "version_minor": 0
      },
      "text/plain": [
       "Button(description='Toggle Pandas/Lux', layout=Layout(top='5px', width='140px'), style=ButtonStyle())"
      ]
     },
     "metadata": {},
     "output_type": "display_data"
    },
    {
     "data": {
      "application/vnd.jupyter.widget-view+json": {
       "model_id": "4ff37ad0c26f4a82ac8b2599feacf4fb",
       "version_major": 2,
       "version_minor": 0
      },
      "text/plain": [
       "Output()"
      ]
     },
     "metadata": {},
     "output_type": "display_data"
    }
   ],
   "source": [
    "# 27/03/2022  00:15           530.265 fufi-imu-data.csv\n",
    "# 27/03/2022  00:18           567.105 fufi-joint_states.csv\n",
    "# 27/03/2022  00:15           233.816 fufi-robotnik_base_control-cmd_vel.csv\n",
    "# 27/03/2022  00:15         1.071.244 fufi-robotnik_base_control-odom.csv\n",
    "\n",
    "# 27/03/2022  00:15           114.609 fufi-vectornav-imu-temperature.csv\n",
    "\n",
    "df = pd.read_csv(\"csv/normal_plan/fufi-imu-data.csv\")\n",
    "df.info()\n",
    "df = df[[\"Time\",\"orientation.x\",\"orientation.y\",\"orientation.z\",\"orientation.w\",\"angular_velocity.x\",\"angular_velocity.y\",\"angular_velocity.z\",\"linear_acceleration.x\",\"linear_acceleration.y\",\"linear_acceleration.z\"]]\n",
    "df"
   ]
  },
  {
   "cell_type": "code",
   "execution_count": 10,
   "metadata": {},
   "outputs": [
    {
     "name": "stderr",
     "output_type": "stream",
     "text": [
      "c:\\Users\\luigi\\AppData\\Local\\Programs\\Python\\Python37\\lib\\site-packages\\pandas\\core\\frame.py:3163: SettingWithCopyWarning:\n",
      "A value is trying to be set on a copy of a slice from a DataFrame.\n",
      "Try using .loc[row_indexer,col_indexer] = value instead\n",
      "\n",
      "See the caveats in the documentation: https://pandas.pydata.org/pandas-docs/stable/user_guide/indexing.html#returning-a-view-versus-a-copy\n",
      "c:\\Users\\luigi\\AppData\\Local\\Programs\\Python\\Python37\\lib\\site-packages\\lux\\executor\\PandasExecutor.py:448: UserWarning:\n",
      "Lux detects that the attribute 'Time' may be temporal.\n",
      "To display visualizations for these attributes accurately, please convert temporal attributes to Datetime objects.\n",
      "For example, you can convert a Year attribute (e.g., 1998, 1971, 1982) using pd.to_datetime by specifying the `format` as '%Y'.\n",
      "\n",
      "Here is a starter template that you can use for converting the temporal fields:\n",
      "\tdf['Time'] = pd.to_datetime(df['Time'], format='<replace-with-datetime-format>')\n",
      "\n",
      "See more at: https://pandas.pydata.org/pandas-docs/stable/reference/api/pandas.to_datetime.html\n",
      "If Time is not a temporal attribute, please use override Lux's automatically detected type:\n",
      "\tdf.set_data_type({'Time':'quantitative'})\n"
     ]
    },
    {
     "data": {
      "application/vnd.jupyter.widget-view+json": {
       "model_id": "0ba330d2ee4f49729b588946a06f0499",
       "version_major": 2,
       "version_minor": 0
      },
      "text/plain": [
       "Button(description='Toggle Pandas/Lux', layout=Layout(top='5px', width='140px'), style=ButtonStyle())"
      ]
     },
     "metadata": {},
     "output_type": "display_data"
    },
    {
     "data": {
      "application/vnd.jupyter.widget-view+json": {
       "model_id": "9f707756f3bf449c86c5000314a69bac",
       "version_major": 2,
       "version_minor": 0
      },
      "text/plain": [
       "Output()"
      ]
     },
     "metadata": {},
     "output_type": "display_data"
    }
   ],
   "source": [
    "import math\n",
    " \n",
    "def euler_from_quaternion(x, y, z, w):\n",
    "        \"\"\"\n",
    "        Convert a quaternion into euler angles (roll, pitch, yaw)\n",
    "        roll is rotation around x in radians (counterclockwise)\n",
    "        pitch is rotation around y in radians (counterclockwise)\n",
    "        yaw is rotation around z in radians (counterclockwise)\n",
    "        \"\"\"\n",
    "        t0 = +2.0 * (w * x + y * z)\n",
    "        t1 = +1.0 - 2.0 * (x * x + y * y)\n",
    "        roll_x = math.atan2(t0, t1)\n",
    "     \n",
    "        t2 = +2.0 * (w * y - z * x)\n",
    "        t2 = +1.0 if t2 > +1.0 else t2\n",
    "        t2 = -1.0 if t2 < -1.0 else t2\n",
    "        pitch_y = math.asin(t2)\n",
    "     \n",
    "        t3 = +2.0 * (w * z + x * y)\n",
    "        t4 = +1.0 - 2.0 * (y * y + z * z)\n",
    "        yaw_z = math.atan2(t3, t4)\n",
    "     \n",
    "        return roll_x, pitch_y, yaw_z # in radians\n",
    "\n",
    "x_list=[]\n",
    "y_list=[]\n",
    "z_list=[]\n",
    "for (z,w,y,x) in zip(df[\"orientation.z\"],df[\"orientation.w\"],df[\"orientation.y\"],df[\"orientation.x\"]):\n",
    "        x_out,y_out,z_out = euler_from_quaternion(x, y, z, w)\n",
    "        x_list.append(x_out)\n",
    "        y_list.append(y_out)\n",
    "        z_list.append(z_out)\n",
    "        \n",
    "df_imu = df[[\"Time\",\"orientation.x\",\"orientation.y\",\"orientation.z\",\"angular_velocity.x\",\"angular_velocity.y\",\"angular_velocity.z\",\"linear_acceleration.x\",\"linear_acceleration.y\",\"linear_acceleration.z\"]]\n",
    "df_imu.columns = [\"Time\",\"orientation_imu.x\",\"orientation_imu.y\",\"orientation_imu.z\",\"angular_velocity.x\",\"angular_velocity.y\",\"angular_velocity.z\",\"linear_acceleration.x\",\"linear_acceleration.y\",\"linear_acceleration.z\"]\n",
    "df_imu[\"orientation_imu.x\"] = x_list\n",
    "df_imu[\"orientation_imu.y\"] = y_list\n",
    "df_imu[\"orientation_imu.z\"] = z_list\n",
    "\n",
    "df_imu"
   ]
  },
  {
   "cell_type": "code",
   "execution_count": 11,
   "metadata": {},
   "outputs": [
    {
     "name": "stdout",
     "output_type": "stream",
     "text": [
      "<class 'lux.core.frame.LuxDataFrame'>\n",
      "RangeIndex: 1800 entries, 0 to 1799\n",
      "Data columns (total 18 columns):\n",
      " #   Column              Non-Null Count  Dtype  \n",
      "---  ------              --------------  -----  \n",
      " 0   Time                1800 non-null   float64\n",
      " 1   header.seq          1800 non-null   int64  \n",
      " 2   header.stamp.secs   1800 non-null   int64  \n",
      " 3   header.stamp.nsecs  1800 non-null   int64  \n",
      " 4   header.frame_id     0 non-null      float64\n",
      " 5   name                1800 non-null   object \n",
      " 6   position_0          1800 non-null   float64\n",
      " 7   position_1          1800 non-null   float64\n",
      " 8   position_2          1800 non-null   float64\n",
      " 9   position_3          1800 non-null   float64\n",
      " 10  velocity_0          1800 non-null   float64\n",
      " 11  velocity_1          1800 non-null   float64\n",
      " 12  velocity_2          1800 non-null   float64\n",
      " 13  velocity_3          1800 non-null   float64\n",
      " 14  effort_0            1800 non-null   float64\n",
      " 15  effort_1            1800 non-null   float64\n",
      " 16  effort_2            1800 non-null   float64\n",
      " 17  effort_3            1800 non-null   float64\n",
      "dtypes: float64(14), int64(3), object(1)\n",
      "memory usage: 253.2+ KB\n"
     ]
    }
   ],
   "source": [
    "# 27/03/2022  00:18           567.105 fufi-joint_states.csv\n",
    "# 27/03/2022  00:15           233.816 fufi-robotnik_base_control-cmd_vel.csv\n",
    "# 27/03/2022  00:15         1.071.244 fufi-robotnik_base_control-odom.csv\n",
    "\n",
    "# 27/03/2022  00:15           114.609 fufi-vectornav-imu-temperature.csv\n",
    "\n",
    "df = pd.read_csv(\"csv/normal_plan/fufi-joint_states.csv\")\n",
    "df.info()\n",
    "# [0,1,2,3,4] = ['fufi_back_left_wheel_joint', 'fufi_back_right_wheel_joint', 'fufi_front_left_wheel_joint', 'fufi_front_right_wheel_joint']\n",
    "\n",
    "df_joints =df[['Time', 'position_0', 'position_1', 'position_2',\n",
    "       'position_3', 'velocity_0', 'velocity_1', 'velocity_2', 'velocity_3',\n",
    "       'effort_0', 'effort_1', 'effort_2', 'effort_3']]\n"
   ]
  },
  {
   "cell_type": "code",
   "execution_count": 12,
   "metadata": {},
   "outputs": [
    {
     "name": "stdout",
     "output_type": "stream",
     "text": [
      "<class 'lux.core.frame.LuxDataFrame'>\n",
      "RangeIndex: 2871 entries, 0 to 2870\n",
      "Data columns (total 7 columns):\n",
      " #   Column     Non-Null Count  Dtype  \n",
      "---  ------     --------------  -----  \n",
      " 0   Time       2871 non-null   float64\n",
      " 1   linear.x   2871 non-null   float64\n",
      " 2   linear.y   2871 non-null   float64\n",
      " 3   linear.z   2871 non-null   float64\n",
      " 4   angular.x  2871 non-null   float64\n",
      " 5   angular.y  2871 non-null   float64\n",
      " 6   angular.z  2871 non-null   float64\n",
      "dtypes: float64(7)\n",
      "memory usage: 157.1 KB\n"
     ]
    },
    {
     "name": "stderr",
     "output_type": "stream",
     "text": [
      "c:\\Users\\luigi\\AppData\\Local\\Programs\\Python\\Python37\\lib\\site-packages\\lux\\executor\\PandasExecutor.py:448: UserWarning:\n",
      "Lux detects that the attribute 'Time' may be temporal.\n",
      "To display visualizations for these attributes accurately, please convert temporal attributes to Datetime objects.\n",
      "For example, you can convert a Year attribute (e.g., 1998, 1971, 1982) using pd.to_datetime by specifying the `format` as '%Y'.\n",
      "\n",
      "Here is a starter template that you can use for converting the temporal fields:\n",
      "\tdf['Time'] = pd.to_datetime(df['Time'], format='<replace-with-datetime-format>')\n",
      "\n",
      "See more at: https://pandas.pydata.org/pandas-docs/stable/reference/api/pandas.to_datetime.html\n",
      "If Time is not a temporal attribute, please use override Lux's automatically detected type:\n",
      "\tdf.set_data_type({'Time':'quantitative'})\n"
     ]
    },
    {
     "data": {
      "application/vnd.jupyter.widget-view+json": {
       "model_id": "fd3107bec92641c1bfbc1432d155249e",
       "version_major": 2,
       "version_minor": 0
      },
      "text/plain": [
       "Button(description='Toggle Pandas/Lux', layout=Layout(top='5px', width='140px'), style=ButtonStyle())"
      ]
     },
     "metadata": {},
     "output_type": "display_data"
    },
    {
     "data": {
      "application/vnd.jupyter.widget-view+json": {
       "model_id": "b3ca9ddcb38a4dec848a9ed68e291cd2",
       "version_major": 2,
       "version_minor": 0
      },
      "text/plain": [
       "Output()"
      ]
     },
     "metadata": {},
     "output_type": "display_data"
    }
   ],
   "source": [
    "# 27/03/2022  00:15           233.816 fufi-robotnik_base_control-cmd_vel.csv\n",
    "# 27/03/2022  00:15         1.071.244 fufi-robotnik_base_control-odom.csv\n",
    "\n",
    "# 27/03/2022  00:15           114.609 fufi-vectornav-imu-temperature.csv\n",
    "\n",
    "df = pd.read_csv(\"csv/normal_plan/fufi-robotnik_base_control-cmd_vel.csv\")\n",
    "df.info()\n",
    "df_cmd_vel = df\n",
    "df_cmd_vel.columns = ['Time', 'linear_cmd_vel.x', 'linear_cmd_vel.y', 'linear_cmd_vel.z', 'angular_cmd_vel.x', 'angular_cmd_vel.y',\n",
    "       'angular_cmd_vel.z']\n",
    "df_cmd_vel"
   ]
  },
  {
   "cell_type": "code",
   "execution_count": 13,
   "metadata": {},
   "outputs": [
    {
     "name": "stdout",
     "output_type": "stream",
     "text": [
      "<class 'lux.core.frame.LuxDataFrame'>\n",
      "RangeIndex: 1774 entries, 0 to 1773\n",
      "Data columns (total 21 columns):\n",
      " #   Column                   Non-Null Count  Dtype  \n",
      "---  ------                   --------------  -----  \n",
      " 0   Time                     1774 non-null   float64\n",
      " 1   header.seq               1774 non-null   int64  \n",
      " 2   header.stamp.secs        1774 non-null   int64  \n",
      " 3   header.stamp.nsecs       1774 non-null   int64  \n",
      " 4   header.frame_id          1774 non-null   object \n",
      " 5   child_frame_id           1774 non-null   object \n",
      " 6   pose.pose.position.x     1774 non-null   float64\n",
      " 7   pose.pose.position.y     1774 non-null   float64\n",
      " 8   pose.pose.position.z     1774 non-null   float64\n",
      " 9   pose.pose.orientation.x  1774 non-null   float64\n",
      " 10  pose.pose.orientation.y  1774 non-null   float64\n",
      " 11  pose.pose.orientation.z  1774 non-null   float64\n",
      " 12  pose.pose.orientation.w  1774 non-null   float64\n",
      " 13  pose.covariance          1774 non-null   object \n",
      " 14  twist.twist.linear.x     1774 non-null   float64\n",
      " 15  twist.twist.linear.y     1774 non-null   float64\n",
      " 16  twist.twist.linear.z     1774 non-null   float64\n",
      " 17  twist.twist.angular.x    1774 non-null   float64\n",
      " 18  twist.twist.angular.y    1774 non-null   float64\n",
      " 19  twist.twist.angular.z    1774 non-null   float64\n",
      " 20  twist.covariance         1774 non-null   object \n",
      "dtypes: float64(14), int64(3), object(4)\n",
      "memory usage: 291.2+ KB\n"
     ]
    },
    {
     "data": {
      "text/plain": [
       "Index(['Time', 'header.seq', 'header.stamp.secs', 'header.stamp.nsecs',\n",
       "       'header.frame_id', 'child_frame_id', 'pose.pose.position.x',\n",
       "       'pose.pose.position.y', 'pose.pose.position.z',\n",
       "       'pose.pose.orientation.x', 'pose.pose.orientation.y',\n",
       "       'pose.pose.orientation.z', 'pose.pose.orientation.w', 'pose.covariance',\n",
       "       'twist.twist.linear.x', 'twist.twist.linear.y', 'twist.twist.linear.z',\n",
       "       'twist.twist.angular.x', 'twist.twist.angular.y',\n",
       "       'twist.twist.angular.z', 'twist.covariance'],\n",
       "      dtype='object')"
      ]
     },
     "execution_count": 13,
     "metadata": {},
     "output_type": "execute_result"
    }
   ],
   "source": [
    "# 27/03/2022  00:15         1.071.244 fufi-robotnik_base_control-odom.csv\n",
    "\n",
    "# 27/03/2022  00:15           114.609 fufi-vectornav-imu-temperature.csv\n",
    "\n",
    "df = pd.read_csv(\"csv/normal_plan/fufi-robotnik_base_control-odom.csv\")\n",
    "df.info()\n",
    "df.columns"
   ]
  },
  {
   "cell_type": "code",
   "execution_count": 14,
   "metadata": {},
   "outputs": [
    {
     "name": "stderr",
     "output_type": "stream",
     "text": [
      "c:\\Users\\luigi\\AppData\\Local\\Programs\\Python\\Python37\\lib\\site-packages\\lux\\executor\\PandasExecutor.py:448: UserWarning:\n",
      "Lux detects that the attribute 'Time' may be temporal.\n",
      "To display visualizations for these attributes accurately, please convert temporal attributes to Datetime objects.\n",
      "For example, you can convert a Year attribute (e.g., 1998, 1971, 1982) using pd.to_datetime by specifying the `format` as '%Y'.\n",
      "\n",
      "Here is a starter template that you can use for converting the temporal fields:\n",
      "\tdf['Time'] = pd.to_datetime(df['Time'], format='<replace-with-datetime-format>')\n",
      "\n",
      "See more at: https://pandas.pydata.org/pandas-docs/stable/reference/api/pandas.to_datetime.html\n",
      "If Time is not a temporal attribute, please use override Lux's automatically detected type:\n",
      "\tdf.set_data_type({'Time':'quantitative'})\n"
     ]
    },
    {
     "data": {
      "application/vnd.jupyter.widget-view+json": {
       "model_id": "0b80c1667d97457582c4a30d4e96e0d3",
       "version_major": 2,
       "version_minor": 0
      },
      "text/plain": [
       "Button(description='Toggle Pandas/Lux', layout=Layout(top='5px', width='140px'), style=ButtonStyle())"
      ]
     },
     "metadata": {},
     "output_type": "display_data"
    },
    {
     "data": {
      "application/vnd.jupyter.widget-view+json": {
       "model_id": "bb4654ec2b924e57a00364eb0dff59a8",
       "version_major": 2,
       "version_minor": 0
      },
      "text/plain": [
       "Output()"
      ]
     },
     "metadata": {},
     "output_type": "display_data"
    }
   ],
   "source": [
    "df_final = pd.concat([df_robot_pose,df_sensor,df_imu,df_joints, df_cmd_vel], axis=1)\n",
    "#df_final=df_final.dropna()\n",
    "df_final=df_final.loc[:,~df_final.columns.duplicated()]\n",
    "df_final = df_final.fillna(method='ffill')\n",
    "df_final"
   ]
  },
  {
   "cell_type": "code",
   "execution_count": 15,
   "metadata": {},
   "outputs": [],
   "source": [
    "df_final.to_csv(\"kairos_window.csv\")"
   ]
  }
 ],
 "metadata": {
  "interpreter": {
   "hash": "f3b1098bb4f459da8c1178410b2ef36a9b947429917e54462ac3d43809735dbe"
  },
  "kernelspec": {
   "display_name": "Python 3.7.3 64-bit",
   "language": "python",
   "name": "python3"
  },
  "language_info": {
   "codemirror_mode": {
    "name": "ipython",
    "version": 3
   },
   "file_extension": ".py",
   "mimetype": "text/x-python",
   "name": "python",
   "nbconvert_exporter": "python",
   "pygments_lexer": "ipython3",
   "version": "3.7.3"
  },
  "orig_nbformat": 4
 },
 "nbformat": 4,
 "nbformat_minor": 2
}
