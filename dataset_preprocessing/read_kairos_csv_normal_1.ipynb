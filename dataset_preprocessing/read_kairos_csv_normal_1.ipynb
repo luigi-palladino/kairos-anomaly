{
 "cells": [
  {
   "cell_type": "code",
   "execution_count": 1,
   "metadata": {},
   "outputs": [
    {
     "name": "stdout",
     "output_type": "stream",
     "text": [
      " Volume in drive D is Data\n",
      " Volume Serial Number is 5CD7-5EF6\n",
      "\n",
      " Directory of d:\\MOBILE_ROBOTICS\\KairosData\\csv\\normal_plan_1\n",
      "\n",
      "15/04/2022  17:41    <DIR>          .\n",
      "15/04/2022  17:41    <DIR>          ..\n",
      "27/03/2022  00:18         5.967.758 fufi-front_laser-scan.csv\n",
      "27/03/2022  00:18           567.548 fufi-imu-data.csv\n",
      "27/03/2022  00:20           594.671 fufi-joint_states.csv\n",
      "27/03/2022  00:18         5.774.749 fufi-rear_laser-scan.csv\n",
      "27/03/2022  00:18           231.833 fufi-robotnik_base_control-cmd_vel.csv\n",
      "27/03/2022  00:18         1.128.340 fufi-robotnik_base_control-odom.csv\n",
      "27/03/2022  00:18            41.951 fufi-robot_pose.csv\n",
      "27/03/2022  00:18           123.742 fufi-vectornav-imu-temperature.csv\n",
      "27/03/2022  00:18               583 topic_info.csv\n",
      "               9 File(s)     14.431.175 bytes\n",
      "               2 Dir(s)  246.384.988.160 bytes free\n"
     ]
    }
   ],
   "source": [
    "!dir csv\\\\normal_plan_1\\\\"
   ]
  },
  {
   "cell_type": "code",
   "execution_count": 2,
   "metadata": {},
   "outputs": [
    {
     "name": "stderr",
     "output_type": "stream",
     "text": [
      "Enabling notebook extension luxwidget/extension...\n",
      "      - Validating: ok\n"
     ]
    }
   ],
   "source": [
    "#!python37 -m jupyter nbextension install luxwidget\n",
    "!python37 -m jupyter nbextension enable luxwidget --py"
   ]
  },
  {
   "cell_type": "code",
   "execution_count": 3,
   "metadata": {},
   "outputs": [],
   "source": [
    "import lux\n",
    "import pandas as pd"
   ]
  },
  {
   "cell_type": "code",
   "execution_count": 4,
   "metadata": {},
   "outputs": [
    {
     "data": {
      "application/vnd.jupyter.widget-view+json": {
       "model_id": "39ec5910cb7341febff69475bd01f361",
       "version_major": 2,
       "version_minor": 0
      },
      "text/plain": [
       "Button(description='Toggle Pandas/Lux', layout=Layout(top='5px', width='140px'), style=ButtonStyle())"
      ]
     },
     "metadata": {},
     "output_type": "display_data"
    },
    {
     "data": {
      "application/vnd.jupyter.widget-view+json": {
       "model_id": "282cd18a050f4ac5941be3a2b821fd81",
       "version_major": 2,
       "version_minor": 0
      },
      "text/plain": [
       "Output()"
      ]
     },
     "metadata": {},
     "output_type": "display_data"
    }
   ],
   "source": [
    "df_info = pd.read_csv(\"csv/normal_plan_1/topic_info.csv\")\n",
    "df_info"
   ]
  },
  {
   "cell_type": "code",
   "execution_count": 5,
   "metadata": {},
   "outputs": [
    {
     "name": "stderr",
     "output_type": "stream",
     "text": [
      "Parameter format not correct - \"normal_plan_1\".\n"
     ]
    },
    {
     "name": "stdout",
     "output_type": "stream",
     "text": [
      "<class 'lux.core.frame.LuxDataFrame'>\n",
      "RangeIndex: 489 entries, 0 to 488\n",
      "Columns: 1094 entries, Time to intensities_540\n",
      "dtypes: float64(1090), int64(3), object(1)\n",
      "memory usage: 4.1+ MB\n"
     ]
    },
    {
     "name": "stderr",
     "output_type": "stream",
     "text": [
      "c:\\Users\\luigi\\AppData\\Local\\Programs\\Python\\Python37\\lib\\site-packages\\lux\\executor\\PandasExecutor.py:448: UserWarning:\n",
      "Lux detects that the attribute 'Time' may be temporal.\n",
      "To display visualizations for these attributes accurately, please convert temporal attributes to Datetime objects.\n",
      "For example, you can convert a Year attribute (e.g., 1998, 1971, 1982) using pd.to_datetime by specifying the `format` as '%Y'.\n",
      "\n",
      "Here is a starter template that you can use for converting the temporal fields:\n",
      "\tdf['Time'] = pd.to_datetime(df['Time'], format='<replace-with-datetime-format>')\n",
      "\n",
      "See more at: https://pandas.pydata.org/pandas-docs/stable/reference/api/pandas.to_datetime.html\n",
      "If Time is not a temporal attribute, please use override Lux's automatically detected type:\n",
      "\tdf.set_data_type({'Time':'quantitative'})\n"
     ]
    },
    {
     "data": {
      "application/vnd.jupyter.widget-view+json": {
       "model_id": "662e4cac11d94635b758cd9621143a23",
       "version_major": 2,
       "version_minor": 0
      },
      "text/plain": [
       "Button(description='Toggle Pandas/Lux', layout=Layout(top='5px', width='140px'), style=ButtonStyle())"
      ]
     },
     "metadata": {},
     "output_type": "display_data"
    },
    {
     "data": {
      "application/vnd.jupyter.widget-view+json": {
       "model_id": "8bdaf38933dd4bd9b646d4020c34d6b4",
       "version_major": 2,
       "version_minor": 0
      },
      "text/plain": [
       "Output()"
      ]
     },
     "metadata": {},
     "output_type": "display_data"
    }
   ],
   "source": [
    "!dir csv/normal_plan_1\n",
    "df = pd.read_csv(\"csv/normal_plan_1/fufi-front_laser-scan.csv\")\n",
    "df.info()\n",
    "# \"header.seq\",\"header.stamp.secs\",\"header.stamp.nsecs\",\"header.frame_id\", \"angle_min\",\"angle_max\", \"angle_increment\",\"time_increment\",\"scan_time\",\"range_min\",\"range_max\"\n",
    "df_sensor = df[[\"Time\",\"ranges_0\", \"intensities_0\",\"ranges_135\", \"intensities_135\",\"ranges_270\", \"intensities_270\",\"ranges_405\", \"intensities_405\",\n",
    "\"ranges_540\", \"intensities_540\"]]\n",
    "\n",
    "df_sensor"
   ]
  },
  {
   "cell_type": "code",
   "execution_count": 6,
   "metadata": {},
   "outputs": [
    {
     "name": "stdout",
     "output_type": "stream",
     "text": [
      "<class 'lux.core.frame.LuxDataFrame'>\n",
      "RangeIndex: 379 entries, 0 to 378\n",
      "Data columns (total 8 columns):\n",
      " #   Column         Non-Null Count  Dtype  \n",
      "---  ------         --------------  -----  \n",
      " 0   Time           379 non-null    float64\n",
      " 1   position.x     379 non-null    float64\n",
      " 2   position.y     379 non-null    float64\n",
      " 3   position.z     379 non-null    float64\n",
      " 4   orientation.x  379 non-null    float64\n",
      " 5   orientation.y  379 non-null    float64\n",
      " 6   orientation.z  379 non-null    float64\n",
      " 7   orientation.w  379 non-null    float64\n",
      "dtypes: float64(8)\n",
      "memory usage: 23.8 KB\n"
     ]
    },
    {
     "name": "stderr",
     "output_type": "stream",
     "text": [
      "c:\\Users\\luigi\\AppData\\Local\\Programs\\Python\\Python37\\lib\\site-packages\\lux\\executor\\PandasExecutor.py:448: UserWarning:\n",
      "Lux detects that the attribute 'Time' may be temporal.\n",
      "To display visualizations for these attributes accurately, please convert temporal attributes to Datetime objects.\n",
      "For example, you can convert a Year attribute (e.g., 1998, 1971, 1982) using pd.to_datetime by specifying the `format` as '%Y'.\n",
      "\n",
      "Here is a starter template that you can use for converting the temporal fields:\n",
      "\tdf['Time'] = pd.to_datetime(df['Time'], format='<replace-with-datetime-format>')\n",
      "\n",
      "See more at: https://pandas.pydata.org/pandas-docs/stable/reference/api/pandas.to_datetime.html\n",
      "If Time is not a temporal attribute, please use override Lux's automatically detected type:\n",
      "\tdf.set_data_type({'Time':'quantitative'})\n"
     ]
    },
    {
     "data": {
      "application/vnd.jupyter.widget-view+json": {
       "model_id": "5272b96d464f43889817f436407b5e86",
       "version_major": 2,
       "version_minor": 0
      },
      "text/plain": [
       "Button(description='Toggle Pandas/Lux', layout=Layout(top='5px', width='140px'), style=ButtonStyle())"
      ]
     },
     "metadata": {},
     "output_type": "display_data"
    },
    {
     "data": {
      "application/vnd.jupyter.widget-view+json": {
       "model_id": "a6aa685e8a7c4a08ab2bdd3236519cf0",
       "version_major": 2,
       "version_minor": 0
      },
      "text/plain": [
       "Output()"
      ]
     },
     "metadata": {},
     "output_type": "display_data"
    }
   ],
   "source": [
    "df = pd.read_csv(\"csv/normal_plan_1/fufi-robot_pose.csv\")\n",
    "df.info()\n",
    "\n",
    "df_robot_pose = df[['Time', 'position.x', 'position.y','orientation.z', 'orientation.w']]\n",
    "df"
   ]
  },
  {
   "cell_type": "code",
   "execution_count": 7,
   "metadata": {},
   "outputs": [],
   "source": [
    "import math\n",
    " \n",
    "def euler_from_quaternion(x, y, z, w):\n",
    "        \"\"\"\n",
    "        Convert a quaternion into euler angles (roll, pitch, yaw)\n",
    "        roll is rotation around x in radians (counterclockwise)\n",
    "        pitch is rotation around y in radians (counterclockwise)\n",
    "        yaw is rotation around z in radians (counterclockwise)\n",
    "        \"\"\"\n",
    "        t0 = +2.0 * (w * x + y * z)\n",
    "        t1 = +1.0 - 2.0 * (x * x + y * y)\n",
    "        roll_x = math.atan2(t0, t1)\n",
    "     \n",
    "        t2 = +2.0 * (w * y - z * x)\n",
    "        t2 = +1.0 if t2 > +1.0 else t2\n",
    "        t2 = -1.0 if t2 < -1.0 else t2\n",
    "        pitch_y = math.asin(t2)\n",
    "     \n",
    "        t3 = +2.0 * (w * z + x * y)\n",
    "        t4 = +1.0 - 2.0 * (y * y + z * z)\n",
    "        yaw_z = math.atan2(t3, t4)\n",
    "     \n",
    "        # return roll_x, pitch_y, yaw_z # in radians\n",
    "        return yaw_z # in radians"
   ]
  },
  {
   "cell_type": "code",
   "execution_count": 8,
   "metadata": {},
   "outputs": [
    {
     "name": "stderr",
     "output_type": "stream",
     "text": [
      "c:\\Users\\luigi\\AppData\\Local\\Programs\\Python\\Python37\\lib\\site-packages\\pandas\\core\\frame.py:3163: SettingWithCopyWarning:\n",
      "A value is trying to be set on a copy of a slice from a DataFrame.\n",
      "Try using .loc[row_indexer,col_indexer] = value instead\n",
      "\n",
      "See the caveats in the documentation: https://pandas.pydata.org/pandas-docs/stable/user_guide/indexing.html#returning-a-view-versus-a-copy\n",
      "c:\\Users\\luigi\\AppData\\Local\\Programs\\Python\\Python37\\lib\\site-packages\\lux\\executor\\PandasExecutor.py:448: UserWarning:\n",
      "Lux detects that the attribute 'Time' may be temporal.\n",
      "To display visualizations for these attributes accurately, please convert temporal attributes to Datetime objects.\n",
      "For example, you can convert a Year attribute (e.g., 1998, 1971, 1982) using pd.to_datetime by specifying the `format` as '%Y'.\n",
      "\n",
      "Here is a starter template that you can use for converting the temporal fields:\n",
      "\tdf['Time'] = pd.to_datetime(df['Time'], format='<replace-with-datetime-format>')\n",
      "\n",
      "See more at: https://pandas.pydata.org/pandas-docs/stable/reference/api/pandas.to_datetime.html\n",
      "If Time is not a temporal attribute, please use override Lux's automatically detected type:\n",
      "\tdf.set_data_type({'Time':'quantitative'})\n"
     ]
    },
    {
     "data": {
      "application/vnd.jupyter.widget-view+json": {
       "model_id": "364737adeb7241b6998d8f835587c095",
       "version_major": 2,
       "version_minor": 0
      },
      "text/plain": [
       "Button(description='Toggle Pandas/Lux', layout=Layout(top='5px', width='140px'), style=ButtonStyle())"
      ]
     },
     "metadata": {},
     "output_type": "display_data"
    },
    {
     "data": {
      "application/vnd.jupyter.widget-view+json": {
       "model_id": "f7f5bb0d37a743439ace0b3e829f07ec",
       "version_major": 2,
       "version_minor": 0
      },
      "text/plain": [
       "Output()"
      ]
     },
     "metadata": {},
     "output_type": "display_data"
    }
   ],
   "source": [
    "xyz = []\n",
    "for (z,w,y,x) in zip(df[\"orientation.z\"],df[\"orientation.w\"],df[\"orientation.y\"],df[\"orientation.x\"]):\n",
    "    xyz.append(euler_from_quaternion(x, y, z, w))\n",
    "\n",
    "df_robot_pose = df[['Time', 'position.x', 'position.y','orientation.z']]\n",
    "df_robot_pose[\"orientation.z\"] = xyz\n",
    "\n",
    "df_robot_pose"
   ]
  },
  {
   "cell_type": "code",
   "execution_count": 9,
   "metadata": {},
   "outputs": [
    {
     "name": "stdout",
     "output_type": "stream",
     "text": [
      "<class 'lux.core.frame.LuxDataFrame'>\n",
      "RangeIndex: 1486 entries, 0 to 1485\n",
      "Data columns (total 42 columns):\n",
      " #   Column                            Non-Null Count  Dtype  \n",
      "---  ------                            --------------  -----  \n",
      " 0   Time                              1486 non-null   float64\n",
      " 1   header.seq                        1486 non-null   int64  \n",
      " 2   header.stamp.secs                 1486 non-null   int64  \n",
      " 3   header.stamp.nsecs                1486 non-null   int64  \n",
      " 4   header.frame_id                   1486 non-null   object \n",
      " 5   orientation.x                     1486 non-null   float64\n",
      " 6   orientation.y                     1486 non-null   float64\n",
      " 7   orientation.z                     1486 non-null   float64\n",
      " 8   orientation.w                     1486 non-null   float64\n",
      " 9   orientation_covariance_0          1486 non-null   float64\n",
      " 10  orientation_covariance_1          1486 non-null   float64\n",
      " 11  orientation_covariance_2          1486 non-null   float64\n",
      " 12  orientation_covariance_3          1486 non-null   float64\n",
      " 13  orientation_covariance_4          1486 non-null   float64\n",
      " 14  orientation_covariance_5          1486 non-null   float64\n",
      " 15  orientation_covariance_6          1486 non-null   float64\n",
      " 16  orientation_covariance_7          1486 non-null   float64\n",
      " 17  orientation_covariance_8          1486 non-null   float64\n",
      " 18  angular_velocity.x                1486 non-null   float64\n",
      " 19  angular_velocity.y                1486 non-null   float64\n",
      " 20  angular_velocity.z                1486 non-null   float64\n",
      " 21  angular_velocity_covariance_0     1486 non-null   float64\n",
      " 22  angular_velocity_covariance_1     1486 non-null   float64\n",
      " 23  angular_velocity_covariance_2     1486 non-null   float64\n",
      " 24  angular_velocity_covariance_3     1486 non-null   float64\n",
      " 25  angular_velocity_covariance_4     1486 non-null   float64\n",
      " 26  angular_velocity_covariance_5     1486 non-null   float64\n",
      " 27  angular_velocity_covariance_6     1486 non-null   float64\n",
      " 28  angular_velocity_covariance_7     1486 non-null   float64\n",
      " 29  angular_velocity_covariance_8     1486 non-null   float64\n",
      " 30  linear_acceleration.x             1486 non-null   float64\n",
      " 31  linear_acceleration.y             1486 non-null   float64\n",
      " 32  linear_acceleration.z             1486 non-null   float64\n",
      " 33  linear_acceleration_covariance_0  1486 non-null   float64\n",
      " 34  linear_acceleration_covariance_1  1486 non-null   float64\n",
      " 35  linear_acceleration_covariance_2  1486 non-null   float64\n",
      " 36  linear_acceleration_covariance_3  1486 non-null   float64\n",
      " 37  linear_acceleration_covariance_4  1486 non-null   float64\n",
      " 38  linear_acceleration_covariance_5  1486 non-null   float64\n",
      " 39  linear_acceleration_covariance_6  1486 non-null   float64\n",
      " 40  linear_acceleration_covariance_7  1486 non-null   float64\n",
      " 41  linear_acceleration_covariance_8  1486 non-null   float64\n",
      "dtypes: float64(38), int64(3), object(1)\n",
      "memory usage: 487.7+ KB\n"
     ]
    },
    {
     "name": "stderr",
     "output_type": "stream",
     "text": [
      "c:\\Users\\luigi\\AppData\\Local\\Programs\\Python\\Python37\\lib\\site-packages\\lux\\executor\\PandasExecutor.py:448: UserWarning:\n",
      "Lux detects that the attribute 'Time' may be temporal.\n",
      "To display visualizations for these attributes accurately, please convert temporal attributes to Datetime objects.\n",
      "For example, you can convert a Year attribute (e.g., 1998, 1971, 1982) using pd.to_datetime by specifying the `format` as '%Y'.\n",
      "\n",
      "Here is a starter template that you can use for converting the temporal fields:\n",
      "\tdf['Time'] = pd.to_datetime(df['Time'], format='<replace-with-datetime-format>')\n",
      "\n",
      "See more at: https://pandas.pydata.org/pandas-docs/stable/reference/api/pandas.to_datetime.html\n",
      "If Time is not a temporal attribute, please use override Lux's automatically detected type:\n",
      "\tdf.set_data_type({'Time':'quantitative'})\n"
     ]
    },
    {
     "data": {
      "application/vnd.jupyter.widget-view+json": {
       "model_id": "d489b0f93116451eb0968486fae54e1f",
       "version_major": 2,
       "version_minor": 0
      },
      "text/plain": [
       "Button(description='Toggle Pandas/Lux', layout=Layout(top='5px', width='140px'), style=ButtonStyle())"
      ]
     },
     "metadata": {},
     "output_type": "display_data"
    },
    {
     "data": {
      "application/vnd.jupyter.widget-view+json": {
       "model_id": "765be0c641e04e75a4f8a37889362b7e",
       "version_major": 2,
       "version_minor": 0
      },
      "text/plain": [
       "Output()"
      ]
     },
     "metadata": {},
     "output_type": "display_data"
    }
   ],
   "source": [
    "# 27/03/2022  00:15           530.265 fufi-imu-data.csv\n",
    "# 27/03/2022  00:18           567.105 fufi-joint_states.csv\n",
    "# 27/03/2022  00:15           233.816 fufi-robotnik_base_control-cmd_vel.csv\n",
    "# 27/03/2022  00:15         1.071.244 fufi-robotnik_base_control-odom.csv\n",
    "\n",
    "# 27/03/2022  00:15           114.609 fufi-vectornav-imu-temperature.csv\n",
    "\n",
    "df = pd.read_csv(\"csv/normal_plan_1/fufi-imu-data.csv\")\n",
    "df.info()\n",
    "df = df[[\"Time\",\"orientation.x\",\"orientation.y\",\"orientation.z\",\"orientation.w\",\"angular_velocity.x\",\"angular_velocity.y\",\"angular_velocity.z\",\"linear_acceleration.x\",\"linear_acceleration.y\",\"linear_acceleration.z\"]]\n",
    "df"
   ]
  },
  {
   "cell_type": "code",
   "execution_count": 10,
   "metadata": {},
   "outputs": [
    {
     "name": "stderr",
     "output_type": "stream",
     "text": [
      "c:\\Users\\luigi\\AppData\\Local\\Programs\\Python\\Python37\\lib\\site-packages\\pandas\\core\\frame.py:3163: SettingWithCopyWarning:\n",
      "A value is trying to be set on a copy of a slice from a DataFrame.\n",
      "Try using .loc[row_indexer,col_indexer] = value instead\n",
      "\n",
      "See the caveats in the documentation: https://pandas.pydata.org/pandas-docs/stable/user_guide/indexing.html#returning-a-view-versus-a-copy\n",
      "c:\\Users\\luigi\\AppData\\Local\\Programs\\Python\\Python37\\lib\\site-packages\\lux\\executor\\PandasExecutor.py:448: UserWarning:\n",
      "Lux detects that the attribute 'Time' may be temporal.\n",
      "To display visualizations for these attributes accurately, please convert temporal attributes to Datetime objects.\n",
      "For example, you can convert a Year attribute (e.g., 1998, 1971, 1982) using pd.to_datetime by specifying the `format` as '%Y'.\n",
      "\n",
      "Here is a starter template that you can use for converting the temporal fields:\n",
      "\tdf['Time'] = pd.to_datetime(df['Time'], format='<replace-with-datetime-format>')\n",
      "\n",
      "See more at: https://pandas.pydata.org/pandas-docs/stable/reference/api/pandas.to_datetime.html\n",
      "If Time is not a temporal attribute, please use override Lux's automatically detected type:\n",
      "\tdf.set_data_type({'Time':'quantitative'})\n"
     ]
    },
    {
     "data": {
      "application/vnd.jupyter.widget-view+json": {
       "model_id": "d351da86877442539bab8e01ebf0229f",
       "version_major": 2,
       "version_minor": 0
      },
      "text/plain": [
       "Button(description='Toggle Pandas/Lux', layout=Layout(top='5px', width='140px'), style=ButtonStyle())"
      ]
     },
     "metadata": {},
     "output_type": "display_data"
    },
    {
     "data": {
      "application/vnd.jupyter.widget-view+json": {
       "model_id": "090833b6d4f643319690298bffaabc64",
       "version_major": 2,
       "version_minor": 0
      },
      "text/plain": [
       "Output()"
      ]
     },
     "metadata": {},
     "output_type": "display_data"
    }
   ],
   "source": [
    "import math\n",
    " \n",
    "def euler_from_quaternion(x, y, z, w):\n",
    "        \"\"\"\n",
    "        Convert a quaternion into euler angles (roll, pitch, yaw)\n",
    "        roll is rotation around x in radians (counterclockwise)\n",
    "        pitch is rotation around y in radians (counterclockwise)\n",
    "        yaw is rotation around z in radians (counterclockwise)\n",
    "        \"\"\"\n",
    "        t0 = +2.0 * (w * x + y * z)\n",
    "        t1 = +1.0 - 2.0 * (x * x + y * y)\n",
    "        roll_x = math.atan2(t0, t1)\n",
    "     \n",
    "        t2 = +2.0 * (w * y - z * x)\n",
    "        t2 = +1.0 if t2 > +1.0 else t2\n",
    "        t2 = -1.0 if t2 < -1.0 else t2\n",
    "        pitch_y = math.asin(t2)\n",
    "     \n",
    "        t3 = +2.0 * (w * z + x * y)\n",
    "        t4 = +1.0 - 2.0 * (y * y + z * z)\n",
    "        yaw_z = math.atan2(t3, t4)\n",
    "     \n",
    "        return roll_x, pitch_y, yaw_z # in radians\n",
    "\n",
    "x_list=[]\n",
    "y_list=[]\n",
    "z_list=[]\n",
    "for (z,w,y,x) in zip(df[\"orientation.z\"],df[\"orientation.w\"],df[\"orientation.y\"],df[\"orientation.x\"]):\n",
    "        x_out,y_out,z_out = euler_from_quaternion(x, y, z, w)\n",
    "        x_list.append(x_out)\n",
    "        y_list.append(y_out)\n",
    "        z_list.append(z_out)\n",
    "        \n",
    "df_imu = df[[\"Time\",\"orientation.x\",\"orientation.y\",\"orientation.z\",\"angular_velocity.x\",\"angular_velocity.y\",\"angular_velocity.z\",\"linear_acceleration.x\",\"linear_acceleration.y\",\"linear_acceleration.z\"]]\n",
    "df_imu.columns = [\"Time\",\"orientation_imu.x\",\"orientation_imu.y\",\"orientation_imu.z\",\"angular_velocity.x\",\"angular_velocity.y\",\"angular_velocity.z\",\"linear_acceleration.x\",\"linear_acceleration.y\",\"linear_acceleration.z\"]\n",
    "df_imu[\"orientation_imu.x\"] = x_list\n",
    "df_imu[\"orientation_imu.y\"] = y_list\n",
    "df_imu[\"orientation_imu.z\"] = z_list\n",
    "\n",
    "df_imu"
   ]
  },
  {
   "cell_type": "code",
   "execution_count": 11,
   "metadata": {},
   "outputs": [
    {
     "name": "stdout",
     "output_type": "stream",
     "text": [
      "<class 'lux.core.frame.LuxDataFrame'>\n",
      "RangeIndex: 1901 entries, 0 to 1900\n",
      "Data columns (total 18 columns):\n",
      " #   Column              Non-Null Count  Dtype  \n",
      "---  ------              --------------  -----  \n",
      " 0   Time                1901 non-null   float64\n",
      " 1   header.seq          1901 non-null   int64  \n",
      " 2   header.stamp.secs   1901 non-null   int64  \n",
      " 3   header.stamp.nsecs  1901 non-null   int64  \n",
      " 4   header.frame_id     0 non-null      float64\n",
      " 5   name                1901 non-null   object \n",
      " 6   position_0          1901 non-null   float64\n",
      " 7   position_1          1901 non-null   float64\n",
      " 8   position_2          1901 non-null   float64\n",
      " 9   position_3          1901 non-null   float64\n",
      " 10  velocity_0          1901 non-null   float64\n",
      " 11  velocity_1          1901 non-null   float64\n",
      " 12  velocity_2          1901 non-null   float64\n",
      " 13  velocity_3          1901 non-null   float64\n",
      " 14  effort_0            1901 non-null   float64\n",
      " 15  effort_1            1901 non-null   float64\n",
      " 16  effort_2            1901 non-null   float64\n",
      " 17  effort_3            1901 non-null   float64\n",
      "dtypes: float64(14), int64(3), object(1)\n",
      "memory usage: 267.5+ KB\n"
     ]
    }
   ],
   "source": [
    "# 27/03/2022  00:18           567.105 fufi-joint_states.csv\n",
    "# 27/03/2022  00:15           233.816 fufi-robotnik_base_control-cmd_vel.csv\n",
    "# 27/03/2022  00:15         1.071.244 fufi-robotnik_base_control-odom.csv\n",
    "\n",
    "# 27/03/2022  00:15           114.609 fufi-vectornav-imu-temperature.csv\n",
    "\n",
    "df = pd.read_csv(\"csv/normal_plan_1/fufi-joint_states.csv\")\n",
    "df.info()\n",
    "# [0,1,2,3,4] = ['fufi_back_left_wheel_joint', 'fufi_back_right_wheel_joint', 'fufi_front_left_wheel_joint', 'fufi_front_right_wheel_joint']\n",
    "\n",
    "df_joints =df[['Time', 'position_0', 'position_1', 'position_2',\n",
    "       'position_3', 'velocity_0', 'velocity_1', 'velocity_2', 'velocity_3',\n",
    "       'effort_0', 'effort_1', 'effort_2', 'effort_3']]\n"
   ]
  },
  {
   "cell_type": "code",
   "execution_count": 12,
   "metadata": {},
   "outputs": [
    {
     "name": "stdout",
     "output_type": "stream",
     "text": [
      "<class 'lux.core.frame.LuxDataFrame'>\n",
      "RangeIndex: 2674 entries, 0 to 2673\n",
      "Data columns (total 7 columns):\n",
      " #   Column     Non-Null Count  Dtype  \n",
      "---  ------     --------------  -----  \n",
      " 0   Time       2674 non-null   float64\n",
      " 1   linear.x   2674 non-null   float64\n",
      " 2   linear.y   2674 non-null   float64\n",
      " 3   linear.z   2674 non-null   float64\n",
      " 4   angular.x  2674 non-null   float64\n",
      " 5   angular.y  2674 non-null   float64\n",
      " 6   angular.z  2674 non-null   float64\n",
      "dtypes: float64(7)\n",
      "memory usage: 146.4 KB\n"
     ]
    },
    {
     "name": "stderr",
     "output_type": "stream",
     "text": [
      "c:\\Users\\luigi\\AppData\\Local\\Programs\\Python\\Python37\\lib\\site-packages\\lux\\executor\\PandasExecutor.py:448: UserWarning:\n",
      "Lux detects that the attribute 'Time' may be temporal.\n",
      "To display visualizations for these attributes accurately, please convert temporal attributes to Datetime objects.\n",
      "For example, you can convert a Year attribute (e.g., 1998, 1971, 1982) using pd.to_datetime by specifying the `format` as '%Y'.\n",
      "\n",
      "Here is a starter template that you can use for converting the temporal fields:\n",
      "\tdf['Time'] = pd.to_datetime(df['Time'], format='<replace-with-datetime-format>')\n",
      "\n",
      "See more at: https://pandas.pydata.org/pandas-docs/stable/reference/api/pandas.to_datetime.html\n",
      "If Time is not a temporal attribute, please use override Lux's automatically detected type:\n",
      "\tdf.set_data_type({'Time':'quantitative'})\n"
     ]
    },
    {
     "data": {
      "application/vnd.jupyter.widget-view+json": {
       "model_id": "25aebfa69d824ccd8e83ef73bc5bc757",
       "version_major": 2,
       "version_minor": 0
      },
      "text/plain": [
       "Button(description='Toggle Pandas/Lux', layout=Layout(top='5px', width='140px'), style=ButtonStyle())"
      ]
     },
     "metadata": {},
     "output_type": "display_data"
    },
    {
     "data": {
      "application/vnd.jupyter.widget-view+json": {
       "model_id": "037476585e5248bd882458d5ec8067dc",
       "version_major": 2,
       "version_minor": 0
      },
      "text/plain": [
       "Output()"
      ]
     },
     "metadata": {},
     "output_type": "display_data"
    }
   ],
   "source": [
    "# 27/03/2022  00:15           233.816 fufi-robotnik_base_control-cmd_vel.csv\n",
    "# 27/03/2022  00:15         1.071.244 fufi-robotnik_base_control-odom.csv\n",
    "\n",
    "# 27/03/2022  00:15           114.609 fufi-vectornav-imu-temperature.csv\n",
    "\n",
    "df = pd.read_csv(\"csv/normal_plan_1/fufi-robotnik_base_control-cmd_vel.csv\")\n",
    "df.info()\n",
    "df_cmd_vel = df\n",
    "df_cmd_vel.columns = ['Time', 'linear_cmd_vel.x', 'linear_cmd_vel.y', 'linear_cmd_vel.z', 'angular_cmd_vel.x', 'angular_cmd_vel.y',\n",
    "       'angular_cmd_vel.z']\n",
    "df_cmd_vel"
   ]
  },
  {
   "cell_type": "code",
   "execution_count": 13,
   "metadata": {},
   "outputs": [
    {
     "name": "stdout",
     "output_type": "stream",
     "text": [
      "<class 'lux.core.frame.LuxDataFrame'>\n",
      "RangeIndex: 1881 entries, 0 to 1880\n",
      "Data columns (total 21 columns):\n",
      " #   Column                   Non-Null Count  Dtype  \n",
      "---  ------                   --------------  -----  \n",
      " 0   Time                     1881 non-null   float64\n",
      " 1   header.seq               1881 non-null   int64  \n",
      " 2   header.stamp.secs        1881 non-null   int64  \n",
      " 3   header.stamp.nsecs       1881 non-null   int64  \n",
      " 4   header.frame_id          1881 non-null   object \n",
      " 5   child_frame_id           1881 non-null   object \n",
      " 6   pose.pose.position.x     1881 non-null   float64\n",
      " 7   pose.pose.position.y     1881 non-null   float64\n",
      " 8   pose.pose.position.z     1881 non-null   float64\n",
      " 9   pose.pose.orientation.x  1881 non-null   float64\n",
      " 10  pose.pose.orientation.y  1881 non-null   float64\n",
      " 11  pose.pose.orientation.z  1881 non-null   float64\n",
      " 12  pose.pose.orientation.w  1881 non-null   float64\n",
      " 13  pose.covariance          1881 non-null   object \n",
      " 14  twist.twist.linear.x     1881 non-null   float64\n",
      " 15  twist.twist.linear.y     1881 non-null   float64\n",
      " 16  twist.twist.linear.z     1881 non-null   float64\n",
      " 17  twist.twist.angular.x    1881 non-null   float64\n",
      " 18  twist.twist.angular.y    1881 non-null   float64\n",
      " 19  twist.twist.angular.z    1881 non-null   float64\n",
      " 20  twist.covariance         1881 non-null   object \n",
      "dtypes: float64(14), int64(3), object(4)\n",
      "memory usage: 308.7+ KB\n"
     ]
    },
    {
     "data": {
      "text/plain": [
       "Index(['Time', 'header.seq', 'header.stamp.secs', 'header.stamp.nsecs',\n",
       "       'header.frame_id', 'child_frame_id', 'pose.pose.position.x',\n",
       "       'pose.pose.position.y', 'pose.pose.position.z',\n",
       "       'pose.pose.orientation.x', 'pose.pose.orientation.y',\n",
       "       'pose.pose.orientation.z', 'pose.pose.orientation.w', 'pose.covariance',\n",
       "       'twist.twist.linear.x', 'twist.twist.linear.y', 'twist.twist.linear.z',\n",
       "       'twist.twist.angular.x', 'twist.twist.angular.y',\n",
       "       'twist.twist.angular.z', 'twist.covariance'],\n",
       "      dtype='object')"
      ]
     },
     "execution_count": 13,
     "metadata": {},
     "output_type": "execute_result"
    }
   ],
   "source": [
    "# 27/03/2022  00:15         1.071.244 fufi-robotnik_base_control-odom.csv\n",
    "\n",
    "# 27/03/2022  00:15           114.609 fufi-vectornav-imu-temperature.csv\n",
    "\n",
    "df = pd.read_csv(\"csv/normal_plan_1/fufi-robotnik_base_control-odom.csv\")\n",
    "df.info()\n",
    "df.columns"
   ]
  },
  {
   "cell_type": "code",
   "execution_count": 14,
   "metadata": {},
   "outputs": [
    {
     "name": "stderr",
     "output_type": "stream",
     "text": [
      "c:\\Users\\luigi\\AppData\\Local\\Programs\\Python\\Python37\\lib\\site-packages\\lux\\executor\\PandasExecutor.py:448: UserWarning:\n",
      "Lux detects that the attribute 'Time' may be temporal.\n",
      "To display visualizations for these attributes accurately, please convert temporal attributes to Datetime objects.\n",
      "For example, you can convert a Year attribute (e.g., 1998, 1971, 1982) using pd.to_datetime by specifying the `format` as '%Y'.\n",
      "\n",
      "Here is a starter template that you can use for converting the temporal fields:\n",
      "\tdf['Time'] = pd.to_datetime(df['Time'], format='<replace-with-datetime-format>')\n",
      "\n",
      "See more at: https://pandas.pydata.org/pandas-docs/stable/reference/api/pandas.to_datetime.html\n",
      "If Time is not a temporal attribute, please use override Lux's automatically detected type:\n",
      "\tdf.set_data_type({'Time':'quantitative'})\n"
     ]
    },
    {
     "data": {
      "application/vnd.jupyter.widget-view+json": {
       "model_id": "9130723ced10449690218231c815acb6",
       "version_major": 2,
       "version_minor": 0
      },
      "text/plain": [
       "Button(description='Toggle Pandas/Lux', layout=Layout(top='5px', width='140px'), style=ButtonStyle())"
      ]
     },
     "metadata": {},
     "output_type": "display_data"
    },
    {
     "data": {
      "application/vnd.jupyter.widget-view+json": {
       "model_id": "5903754260434fafa46079cfb69096c6",
       "version_major": 2,
       "version_minor": 0
      },
      "text/plain": [
       "Output()"
      ]
     },
     "metadata": {},
     "output_type": "display_data"
    }
   ],
   "source": [
    "df_final = pd.concat([df_robot_pose,df_sensor,df_imu,df_joints, df_cmd_vel], axis=1)\n",
    "#df_final=df_final.dropna()\n",
    "df_final=df_final.loc[:,~df_final.columns.duplicated()]\n",
    "df_final = df_final.fillna(method='ffill')\n",
    "df_final"
   ]
  },
  {
   "cell_type": "code",
   "execution_count": 15,
   "metadata": {},
   "outputs": [],
   "source": [
    "df_final.to_csv(\"kairos_normal_1.csv\")"
   ]
  }
 ],
 "metadata": {
  "interpreter": {
   "hash": "f3b1098bb4f459da8c1178410b2ef36a9b947429917e54462ac3d43809735dbe"
  },
  "kernelspec": {
   "display_name": "Python 3.7.3 64-bit",
   "language": "python",
   "name": "python3"
  },
  "language_info": {
   "codemirror_mode": {
    "name": "ipython",
    "version": 3
   },
   "file_extension": ".py",
   "mimetype": "text/x-python",
   "name": "python",
   "nbconvert_exporter": "python",
   "pygments_lexer": "ipython3",
   "version": "3.7.3"
  },
  "orig_nbformat": 4
 },
 "nbformat": 4,
 "nbformat_minor": 2
}
